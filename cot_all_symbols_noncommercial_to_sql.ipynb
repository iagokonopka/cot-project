{
 "cells": [
  {
   "cell_type": "markdown",
   "id": "eff81aa7-220b-4f78-b206-3917f5757aaa",
   "metadata": {},
   "source": [
    "SCRIPT FOCUSED ON DOWNLOAD THE ANNUAL DATA FROM THE CFTC OFFICIAL WEBSITE AND INSERT INTO A SQL DATABASE"
   ]
  },
  {
   "cell_type": "markdown",
   "id": "3ff3f72c-e76f-4503-b357-819a12560dec",
   "metadata": {},
   "source": [
    "Import libraries"
   ]
  },
  {
   "cell_type": "code",
   "execution_count": 1,
   "id": "a0690f2b-37b2-4ef8-ade7-858d4b44ab3d",
   "metadata": {
    "tags": []
   },
   "outputs": [],
   "source": [
    "import requests\n",
    "import pyodbc\n",
    "from zipfile import ZipFile\n",
    "import pandas as pd\n",
    "import os"
   ]
  },
  {
   "cell_type": "markdown",
   "id": "a98928c6-5226-4671-afa7-51f2642b70f3",
   "metadata": {},
   "source": [
    "Define base URL"
   ]
  },
  {
   "cell_type": "code",
   "execution_count": 2,
   "id": "9ace5013-c639-4ecf-be70-8c01b675b0ed",
   "metadata": {
    "tags": []
   },
   "outputs": [],
   "source": [
    "base_url = \"https://www.cftc.gov\""
   ]
  },
  {
   "cell_type": "markdown",
   "id": "c366a234-38ac-4d00-a77a-4acec7d2d5db",
   "metadata": {},
   "source": [
    "Define list of years to download"
   ]
  },
  {
   "cell_type": "code",
   "execution_count": 3,
   "id": "bb49ad68-d701-440c-b117-ae79a6454c72",
   "metadata": {
    "tags": []
   },
   "outputs": [],
   "source": [
    "years_to_download = [2022, 2023]"
   ]
  },
  {
   "cell_type": "markdown",
   "id": "93605e33-c542-4843-bee5-184888d8bd90",
   "metadata": {},
   "source": [
    "Server database credentials"
   ]
  },
  {
   "cell_type": "code",
   "execution_count": 4,
   "id": "1af3848b-8c3a-4403-8ac4-457fdf476b38",
   "metadata": {
    "tags": []
   },
   "outputs": [],
   "source": [
    "server = 'DESKTOP-HK9LHN8'\n",
    "database = 'projetos'\n",
    "username = 'sa'\n",
    "password = '1620meguie'"
   ]
  },
  {
   "cell_type": "markdown",
   "id": "3a3b2a1e-2ec1-46f5-903a-db574e76c022",
   "metadata": {},
   "source": [
    "Create connection, unzip files and insert into SQL"
   ]
  },
  {
   "cell_type": "code",
   "execution_count": null,
   "id": "1a7e6031-3a0b-47b7-934a-aa22fe925fe1",
   "metadata": {
    "tags": []
   },
   "outputs": [
    {
     "name": "stdout",
     "output_type": "stream",
     "text": [
      "Data for 2022 successfully downloaded and inserted into the database.\n"
     ]
    }
   ],
   "source": [
    "connection_string = f\"DRIVER={{SQL Server}};SERVER={server};DATABASE={database};UID={username};PWD={password}\"\n",
    "conn = pyodbc.connect(connection_string)\n",
    "cursor = conn.cursor()\n",
    "\n",
    "for year in years_to_download:\n",
    "    try:\n",
    "        # Construct URL for the ZIP file (I had to search inside the website for the file repository)\n",
    "        zip_url = f\"{base_url}/files/dea/history/dea_fut_xls_{year}.zip\"\n",
    "        \n",
    "        # Download the ZIP file\n",
    "        response = requests.get(zip_url)\n",
    "        with open(f\"dea_fut_xls_{year}.zip\", \"wb\") as zip_file:\n",
    "            zip_file.write(response.content)\n",
    "        \n",
    "        # Extract the XLS file from the ZIP\n",
    "        with ZipFile(f\"dea_fut_xls_{year}.zip\", \"r\") as zip_ref:\n",
    "            zip_ref.extract(\"annual.xls\", path=\".\")\n",
    "        \n",
    "        # Read the XLS file into a DataFrame\n",
    "        xls_file = pd.read_excel(\"annual.xls\")\n",
    "        \n",
    "        # Name the table based on it year\n",
    "        table_name = f\"COTAnnualData{year}\"\n",
    "        \n",
    "        # Extract column names from the XLS file\n",
    "        column_names = [str(col) for col in xls_file.columns]\n",
    "        \n",
    "        # Generate the SQL statement to create or replace the table\n",
    "        create_table_sql = f\"\"\"\n",
    "        IF OBJECT_ID('{table_name}', 'U') IS NOT NULL\n",
    "            DROP TABLE {table_name}\n",
    "        CREATE TABLE {table_name} ({', '.join([f'[{col}] NVARCHAR(MAX)' for col in column_names])})\n",
    "        \"\"\"\n",
    "        \n",
    "        # Execute the CREATE OR REPLACE TABLE statement\n",
    "        cursor.execute(create_table_sql)\n",
    "        \n",
    "        # Insert data into the SQL table with error handling\n",
    "        for index, row in xls_file.iterrows():\n",
    "            values = [str(value) for value in row]\n",
    "            placeholders = ', '.join(['?'] * len(column_names))\n",
    "            insert_sql = f\"INSERT INTO {table_name} ({', '.join(column_names)}) VALUES ({placeholders})\"\n",
    "            try:\n",
    "                cursor.execute(insert_sql, values)\n",
    "            except Exception as e:\n",
    "                print(f\"Error inserting data for {year}: {e}\")\n",
    "        \n",
    "        # Commit the changes to the database\n",
    "        conn.commit()\n",
    "        \n",
    "        # Clean up: remove downloaded files for the current year\n",
    "        os.remove(f\"dea_fut_xls_{year}.zip\")\n",
    "        os.remove(\"annual.xls\")\n",
    "        \n",
    "        print(f\"Data for {year} successfully downloaded and inserted into the database.\")\n",
    "    except Exception as e:\n",
    "        print(f\"Error for {year}: {e}\")\n",
    "\n",
    "# Close the database connection\n",
    "conn.close()"
   ]
  },
  {
   "cell_type": "code",
   "execution_count": null,
   "id": "445b59bc-a4d8-4a9c-b098-eea21a3a121f",
   "metadata": {},
   "outputs": [],
   "source": []
  }
 ],
 "metadata": {
  "kernelspec": {
   "display_name": "Python 3 (ipykernel)",
   "language": "python",
   "name": "python3"
  },
  "language_info": {
   "codemirror_mode": {
    "name": "ipython",
    "version": 3
   },
   "file_extension": ".py",
   "mimetype": "text/x-python",
   "name": "python",
   "nbconvert_exporter": "python",
   "pygments_lexer": "ipython3",
   "version": "3.11.5"
  }
 },
 "nbformat": 4,
 "nbformat_minor": 5
}
