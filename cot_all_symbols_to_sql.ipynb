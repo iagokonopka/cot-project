{
 "cells": [
  {
   "cell_type": "markdown",
   "id": "640e1612-c81c-4d3c-bed6-af35a6ad120c",
   "metadata": {},
   "source": [
    "SCRIPT FOCUSED ON DOWNLOAD DATA FROM THE CFTC OFFICIAL WEBSITE AND INSERT INTO MY SQL DATABASE"
   ]
  },
  {
   "cell_type": "markdown",
   "id": "5398f054-9727-4b1b-a2be-141afe22aa41",
   "metadata": {},
   "source": [
    "Import libraries"
   ]
  },
  {
   "cell_type": "code",
   "execution_count": 1,
   "id": "013aaab7-8122-49de-b9bf-5aa72d0e825d",
   "metadata": {
    "tags": []
   },
   "outputs": [],
   "source": [
    "import requests\n",
    "from zipfile import ZipFile\n",
    "import os\n",
    "import pandas as pd\n",
    "import pyodbc"
   ]
  },
  {
   "cell_type": "markdown",
   "id": "2b5e41c6-da2b-41fe-b48c-5f50abeff675",
   "metadata": {},
   "source": [
    "Define base URL"
   ]
  },
  {
   "cell_type": "code",
   "execution_count": 2,
   "id": "da579573-5a72-4a45-a89b-01aa0184ab22",
   "metadata": {
    "tags": []
   },
   "outputs": [],
   "source": [
    "base_url = \"https://www.cftc.gov\""
   ]
  },
  {
   "cell_type": "markdown",
   "id": "ad3c971e-0eec-4e72-9d6a-9eb046d79047",
   "metadata": {},
   "source": [
    "Define list of years I want to download"
   ]
  },
  {
   "cell_type": "code",
   "execution_count": 3,
   "id": "37d6c608-d0cd-4ee4-af3c-63c8a954a0b4",
   "metadata": {
    "tags": []
   },
   "outputs": [],
   "source": [
    "years_to_download = [2022, 2023]"
   ]
  },
  {
   "cell_type": "markdown",
   "id": "10cd3390-a285-4603-8a53-eef5fd4abd34",
   "metadata": {},
   "source": [
    "Use pyodbc to innitialize the SQL database connection"
   ]
  },
  {
   "cell_type": "code",
   "execution_count": 4,
   "id": "4194e41a-a061-47db-8b60-e120e1af0210",
   "metadata": {
    "tags": []
   },
   "outputs": [],
   "source": [
    "server = 'server name'\n",
    "database = 'database name'\n",
    "username = 'username'\n",
    "password = 'password'\n",
    "conn_str = f'DRIVER={{SQL Server}};SERVER={server};DATABASE={database};UID={username};PWD={password}'\n",
    "conn = pyodbc.connect(conn_str)\n",
    "cursor = conn.cursor()"
   ]
  },
  {
   "cell_type": "markdown",
   "id": "2622dbd4-8001-4bf4-a514-d77e1dd7f0e8",
   "metadata": {},
   "source": [
    "Begin the unzip process and insert into SQL database"
   ]
  },
  {
   "cell_type": "code",
   "execution_count": 5,
   "id": "d3905f3a-f3c9-4d3b-abe1-ad2b8e845e0a",
   "metadata": {
    "tags": []
   },
   "outputs": [
    {
     "name": "stdout",
     "output_type": "stream",
     "text": [
      "Downloaded and saved data for 2022 in the table COTData2022\n",
      "Downloaded and saved data for 2023 in the table COTData2023\n",
      "Data download and insertion into SQL Server completed.\n"
     ]
    }
   ],
   "source": [
    "for year in years_to_download:\n",
    "    # Construct URL for the ZIP file (I had to search inside the website to know the file repository)\n",
    "    zip_url = f\"{base_url}/files/dea/history/fut_fin_txt_{year}.zip\"\n",
    "\n",
    "    # Send an HTTP GET request to download the ZIP file\n",
    "    response = requests.get(zip_url)\n",
    "\n",
    "    if response.status_code == 200:\n",
    "        # Define the path to save the downloaded ZIP file\n",
    "        zip_path = os.path.join(os.getcwd(), f\"fut_fin_txt_{year}.zip\")\n",
    "\n",
    "        # Save the ZIP file to the current directory\n",
    "        with open(zip_path, 'wb') as zip_file:\n",
    "            zip_file.write(response.content)\n",
    "\n",
    "        # Extract the ZIP file content\n",
    "        with ZipFile(zip_path, 'r') as zip_ref:\n",
    "            zip_ref.extractall(os.getcwd())\n",
    "\n",
    "        # Get the name of the extracted file\n",
    "        extracted_files = zip_ref.namelist()\n",
    "\n",
    "        # Get the file name assuming that exists only one file\n",
    "        if extracted_files:\n",
    "            extracted_file = extracted_files[0]\n",
    "\n",
    "            # Construct the full path to the extracted file\n",
    "            extracted_file_path = os.path.join(os.getcwd(), extracted_file)\n",
    "\n",
    "            # Load the data from the extracted file into pandas dataframe\n",
    "            df = pd.read_csv(extracted_file_path, delimiter=',', encoding='latin1')\n",
    "\n",
    "            # Define the table name based on year\n",
    "            table_name = f'COTData{year}'\n",
    "\n",
    "            # SQL statment will drop table if already exists\n",
    "            cursor.execute(f\"IF OBJECT_ID('{table_name}', 'U') IS NOT NULL DROP TABLE {table_name}\")\n",
    "\n",
    "            # Create the table with columns matching the DF\n",
    "            create_table_sql = f\"CREATE TABLE {table_name} ( {', '.join([f'[{column}] NVARCHAR(MAX)' for column in df.columns])} )\"\n",
    "            cursor.execute(create_table_sql)\n",
    "\n",
    "            # Insert the data into the created table\n",
    "            for index, row in df.iterrows():\n",
    "                insert_sql = f\"INSERT INTO {table_name} ({', '.join(['[' + column + ']' for column in df.columns])}) VALUES ({', '.join(['?' for _ in range(len(df.columns))])})\"\n",
    "                cursor.execute(insert_sql, tuple(row))\n",
    "\n",
    "            conn.commit()\n",
    "\n",
    "            print(f\"Downloaded and saved data for {year} in the table {table_name}\")\n",
    "        else:\n",
    "            print(f\"No files found in the extracted ZIP for {year}\")\n",
    "    else:\n",
    "        print(f\"Failed to download data for {year}\")\n",
    "\n",
    "# Close the database connection\n",
    "conn.close()\n",
    "\n",
    "print(\"Data download and insertion into SQL Server completed.\")"
   ]
  },
  {
   "cell_type": "code",
   "execution_count": null,
   "id": "8fec2a40-511b-4e0c-bd3c-878083337962",
   "metadata": {},
   "outputs": [],
   "source": []
  }
 ],
 "metadata": {
  "kernelspec": {
   "display_name": "Python 3 (ipykernel)",
   "language": "python",
   "name": "python3"
  },
  "language_info": {
   "codemirror_mode": {
    "name": "ipython",
    "version": 3
   },
   "file_extension": ".py",
   "mimetype": "text/x-python",
   "name": "python",
   "nbconvert_exporter": "python",
   "pygments_lexer": "ipython3",
   "version": "3.11.5"
  }
 },
 "nbformat": 4,
 "nbformat_minor": 5
}
